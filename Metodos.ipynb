{
 "cells": [
  {
   "cell_type": "code",
   "execution_count": null,
   "id": "34f4979e",
   "metadata": {},
   "outputs": [],
   "source": [
    "#Método 1: Convertir número decimales a binarios"
   ]
  },
  {
   "cell_type": "code",
   "execution_count": 2,
   "id": "001f8c27",
   "metadata": {},
   "outputs": [
    {
     "name": "stdout",
     "output_type": "stream",
     "text": [
      "110010100010010111100\n"
     ]
    }
   ],
   "source": [
    "def func1(decimal):\n",
    "    if decimal == 0:\n",
    "        return '0'\n",
    "    binario = ''\n",
    "    while decimal > 0:\n",
    "        binario = str(decimal % 2) + binario\n",
    "        decimal //= 2\n",
    "    return binario\n",
    "\n",
    "\n",
    "numDec = 1655996\n",
    "numBin = func1(numDec)\n",
    "print(numBin)"
   ]
  },
  {
   "cell_type": "code",
   "execution_count": null,
   "id": "a17c5cfb",
   "metadata": {},
   "outputs": [],
   "source": [
    "#Método 2: Factorial de un número"
   ]
  },
  {
   "cell_type": "code",
   "execution_count": 1,
   "id": "c413f308",
   "metadata": {},
   "outputs": [
    {
     "name": "stdout",
     "output_type": "stream",
     "text": [
      "Ingrese un número para obtener su factorial: 3\n",
      "6\n"
     ]
    }
   ],
   "source": [
    "n = int(input(\"Ingrese un número para obtener su factorial: \"))\n",
    "i = 1\n",
    "f = 1\n",
    "if n >= 0: \n",
    "  while i <= n:\n",
    "    f = f*(i)\n",
    "    i= i + 1\n",
    "    \n",
    "  print(f)\n",
    "else: \n",
    "  print(\"No se puede obtener el factorial de un número negativo\")"
   ]
  },
  {
   "cell_type": "code",
   "execution_count": null,
   "id": "a00bf349",
   "metadata": {},
   "outputs": [],
   "source": []
  }
 ],
 "metadata": {
  "kernelspec": {
   "display_name": "Python 3 (ipykernel)",
   "language": "python",
   "name": "python3"
  },
  "language_info": {
   "codemirror_mode": {
    "name": "ipython",
    "version": 3
   },
   "file_extension": ".py",
   "mimetype": "text/x-python",
   "name": "python",
   "nbconvert_exporter": "python",
   "pygments_lexer": "ipython3",
   "version": "3.11.2"
  }
 },
 "nbformat": 4,
 "nbformat_minor": 5
}
