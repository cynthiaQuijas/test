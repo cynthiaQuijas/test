{
 "cells": [
  {
   "cell_type": "code",
   "execution_count": 9,
   "id": "d9de7bcd",
   "metadata": {},
   "outputs": [],
   "source": [
    "def func1(decimal):\n",
    "    if decimal == 0:\n",
    "        return '0b0'\n",
    "    binario = ''\n",
    "    while decimal > 0:\n",
    "        binario = str(decimal % 2) + binario\n",
    "        decimal //= 2\n",
    "    return '0b' + binario\n"
   ]
  },
  {
   "cell_type": "code",
   "execution_count": 10,
   "id": "e14767ad",
   "metadata": {},
   "outputs": [
    {
     "name": "stdout",
     "output_type": "stream",
     "text": [
      "0b110010100010010111100\n"
     ]
    }
   ],
   "source": [
    "numDec = 1655996\n",
    "numBin = func1(numDec)\n",
    "print(numBin)\n"
   ]
  },
  {
   "cell_type": "code",
   "execution_count": null,
   "id": "3d38c68d",
   "metadata": {},
   "outputs": [],
   "source": []
  }
 ],
 "metadata": {
  "kernelspec": {
   "display_name": "Python 3 (ipykernel)",
   "language": "python",
   "name": "python3"
  },
  "language_info": {
   "codemirror_mode": {
    "name": "ipython",
    "version": 3
   },
   "file_extension": ".py",
   "mimetype": "text/x-python",
   "name": "python",
   "nbconvert_exporter": "python",
   "pygments_lexer": "ipython3",
   "version": "3.11.2"
  }
 },
 "nbformat": 4,
 "nbformat_minor": 5
}
